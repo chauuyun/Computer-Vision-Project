{
 "cells": [
  {
   "cell_type": "code",
   "execution_count": 41,
   "id": "1a2c357c",
   "metadata": {},
   "outputs": [
    {
     "name": "stdout",
     "output_type": "stream",
     "text": [
      "      width < 10: 34706 \n",
      " 10 <= width < 20: 57250 \n",
      " 20 <= width < 30: 24885 \n",
      " 30 <= width < 40: 13338 \n",
      " 40 <= width < 50: 8011 \n",
      " 50 <= width     : 20699 \n",
      "\n",
      "       width/height < 0.6: 7720 \n",
      " 0.6 <= width/height < 0.7: 22966 \n",
      " 0.7 <= width/height < 0.8: 46997 \n",
      " 0.8 <= width/height < 0.9: 45458 \n",
      " 0.9 <= width/height < 1.0: 16786 \n",
      " 1.0 <= width/height      : 18962 \n",
      "\n",
      "invalid bounding boxes: 535\n"
     ]
    },
    {
     "data": {
      "image/png": "[encoded data removed]",
      "text/plain": [
       "<Figure size 432x288 with 1 Axes>"
      ]
     },
     "metadata": {
      "needs_background": "light"
     },
     "output_type": "display_data"
    }
   ],
   "source": [
    "import numpy as np\n",
    "import matplotlib.pyplot as plt\n",
    "%matplotlib inline\n",
    "\n",
    "if __name__ == '__main__':\n",
    "    anno_file = 'annotation.txt'\n",
    "    with open(anno_file, 'r') as fp:\n",
    "        lines = fp.readlines()\n",
    "\n",
    "    # Enter your code here (25%)\n",
    "    # You might use the following to access each line\n",
    "    width_list = []\n",
    "    widthheight_list = []\n",
    "    invalid_count=0\n",
    "    \n",
    "    valid_count_1=0\n",
    "    valid_count_2=0\n",
    "    valid_count_3=0\n",
    "    valid_count_4=0\n",
    "    valid_count_5=0\n",
    "    valid_count_6=0\n",
    "    valid_count_7=0\n",
    "    valid_count_8=0\n",
    "    valid_count_9=0\n",
    "    valid_count_10=0\n",
    "    valid_count_11=0\n",
    "    valid_count_12=0\n",
    "    \n",
    "    # for line in lines:\n",
    "    for line in lines:\n",
    "        annotation = line.strip().split(' ')\n",
    "        integer = np.array(annotation[1:], dtype=\"int32\")\n",
    "        list = np.reshape(integer, (-1,4))\n",
    "        for i in range(list.shape[0]):\n",
    "            a = list[i, 0]\n",
    "            b = list[i, 1]\n",
    "            c = list[i, 2]\n",
    "            d = list[i, 3]\n",
    "            if a>=0 and b>=0 and c>a and d>b:\n",
    "                width = c - a + 1\n",
    "                height = d - b + 1\n",
    "                width_list.append(width)\n",
    "                widthheight_list.append(width/height)   \n",
    "            else:\n",
    "                invalid_count=invalid_count+1\n",
    "                \n",
    "    for width in width_list:\n",
    "        if width<10:\n",
    "            valid_count_1=valid_count_1+1\n",
    "        elif 10<=width<20:\n",
    "            valid_count_2=valid_count_2+1\n",
    "        elif 20<=width<30:\n",
    "            valid_count_3=valid_count_3+1 \n",
    "        elif 30<=width<40:\n",
    "            valid_count_4=valid_count_4+1\n",
    "        elif 40<=width<50:\n",
    "            valid_count_5=valid_count_5+1\n",
    "        elif width>=50:\n",
    "            valid_count_6=valid_count_6+1\n",
    "    \n",
    "    \n",
    "    for widthheight in widthheight_list:\n",
    "        if widthheight<0.6:\n",
    "            valid_count_7=valid_count_7+1\n",
    "        elif 0.6<=widthheight<0.7:\n",
    "            valid_count_8=valid_count_8+1\n",
    "        elif 0.7<=widthheight<0.8:\n",
    "            valid_count_9=valid_count_9+1 \n",
    "        elif 0.8<=widthheight<0.9:\n",
    "            valid_count_10=valid_count_10+1\n",
    "        elif 0.9<=widthheight<1.0:\n",
    "            valid_count_11=valid_count_11+1\n",
    "        elif widthheight>=1.0:\n",
    "            valid_count_12=valid_count_12+1\n",
    "            \n",
    "    print(\"      width < 10:\", valid_count_1,\"\\n\", \n",
    "          \"10 <= width < 20:\", valid_count_2,\"\\n\",\n",
    "          \"20 <= width < 30:\", valid_count_3,\"\\n\",\n",
    "          \"30 <= width < 40:\", valid_count_4,\"\\n\",\n",
    "          \"40 <= width < 50:\", valid_count_5,\"\\n\",\n",
    "          \"50 <= width     :\", valid_count_6,\"\\n\",)\n",
    "    \n",
    "    print(\"       width/height < 0.6:\", valid_count_7,\"\\n\", \n",
    "          \"0.6 <= width/height < 0.7:\", valid_count_8,\"\\n\",\n",
    "          \"0.7 <= width/height < 0.8:\", valid_count_9,\"\\n\",\n",
    "          \"0.8 <= width/height < 0.9:\", valid_count_10,\"\\n\",\n",
    "          \"0.9 <= width/height < 1.0:\", valid_count_11,\"\\n\",\n",
    "          \"1.0 <= width/height      :\", valid_count_12,\"\\n\",)\n",
    "    \n",
    "    print(\"invalid bounding boxes:\",invalid_count)\n",
    "    \n",
    "    plt.hist(width_list, range(0,101,10), rwidth=0.85, color=\"slateblue\")\n",
    "    plt.ylabel(\"Counts\")\n",
    "    plt.xlabel(\"Width\")     \n",
    "    plt.grid(axis='y',linestyle='-')\n",
    "      \n",
    "\n",
    "      \n"
   ]
  },
  {
   "cell_type": "code",
   "execution_count": null,
   "id": "2ee30664",
   "metadata": {},
   "outputs": [],
   "source": [
    "# How many bounding boxes are invalid? \n",
    "# Modify the above code to find the answer. (5%)\n",
    "# Write down your answer here.\n",
    "Ans: 535 bounding boxes are invalid."
   ]
  },
  {
   "cell_type": "code",
   "execution_count": null,
   "id": "89753aac",
   "metadata": {},
   "outputs": [],
   "source": []
  }
 ],
 "metadata": {
  "kernelspec": {
   "display_name": "Python 3 (ipykernel)",
   "language": "python",
   "name": "python3"
  },
  "language_info": {
   "codemirror_mode": {
    "name": "ipython",
    "version": 3
   },
   "file_extension": ".py",
   "mimetype": "text/x-python",
   "name": "python",
   "nbconvert_exporter": "python",
   "pygments_lexer": "ipython3",
   "version": "3.10.9"
  }
 },
 "nbformat": 4,
 "nbformat_minor": 5
}
